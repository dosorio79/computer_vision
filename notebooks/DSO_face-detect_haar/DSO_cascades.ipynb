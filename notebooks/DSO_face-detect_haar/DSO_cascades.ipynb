{
 "cells": [
  {
   "cell_type": "code",
   "execution_count": 4,
   "metadata": {},
   "outputs": [],
   "source": [
    "import cv2"
   ]
  },
  {
   "attachments": {},
   "cell_type": "markdown",
   "metadata": {},
   "source": [
    "# Single face"
   ]
  },
  {
   "cell_type": "code",
   "execution_count": 3,
   "metadata": {},
   "outputs": [
    {
     "name": "stdout",
     "output_type": "stream",
     "text": [
      "Number of detected faces: 1\n"
     ]
    }
   ],
   "source": [
    "# instantiate a cascade wusind the frontal face, there are others\n",
    "#https://github.com/opencv/opencv/tree/master/data/haarcascades\n",
    "face_cascade = cv2.CascadeClassifier('cascades/haarcascade_frontalface_default.xml')\n",
    "# Image loading and face detection\n",
    "img_path = 'img/'\n",
    "image = cv2.imread(f'{img_path}0.png')\n",
    "rgb = cv2.cvtColor(image, cv2.COLOR_BGR2RGB) # Can change to gray or use RGB?\n",
    "faces = face_cascade.detectMultiScale(rgb, scaleFactor=1.1, minNeighbors=5)\n",
    "print('Number of detected faces:', len(faces))"
   ]
  },
  {
   "cell_type": "code",
   "execution_count": 4,
   "metadata": {},
   "outputs": [
    {
     "name": "stdout",
     "output_type": "stream",
     "text": [
      "face0.jpg is saved\n"
     ]
    }
   ],
   "source": [
    "# Get all faces and draw bounding rectangle\n",
    "if len(faces) > 0:\n",
    "    for i, (x, y, w, h) in enumerate(faces):\n",
    "        # get face and save crop\n",
    "        face = image[y:y + h, x:x + w]\n",
    "        cv2.imshow(\"Cropped Face\", face)\n",
    "        cv2.imwrite(f'{img_path}face{i}.jpg', face)\n",
    "        print(f\"face{i}.jpg is saved\")\n",
    "        # draw rectangle\n",
    "        color = (0, 255, 255) # in BGR\n",
    "        stroke = 1\n",
    "        cv2.rectangle(image, (x, y), (x + w, y + h), color, stroke)\n",
    "\n",
    "# Show both images, press any key to exit        \n",
    "cv2.imshow('Face detection', image)\n",
    "cv2.waitKey(0)                  \n",
    "cv2.destroyAllWindows()"
   ]
  },
  {
   "attachments": {},
   "cell_type": "markdown",
   "metadata": {},
   "source": [
    "# Multiple faces"
   ]
  },
  {
   "cell_type": "code",
   "execution_count": 14,
   "metadata": {},
   "outputs": [
    {
     "name": "stdout",
     "output_type": "stream",
     "text": [
      "Number of detected faces: 6\n"
     ]
    }
   ],
   "source": [
    "# instantiate a cascade wusind the frontal face, there are others\n",
    "#https://github.com/opencv/opencv/tree/master/data/haarcascades\n",
    "face_cascade = cv2.CascadeClassifier('cascades/haarcascade_frontalface_default.xml')\n",
    "# Image loading and face detection\n",
    "img_path = 'img/'\n",
    "image = cv2.imread(f'{img_path}original.png')\n",
    "rgb = cv2.cvtColor(image, cv2.COLOR_BGR2RGB) # Can change to gray or use RGB?\n",
    "faces = face_cascade.detectMultiScale(rgb, scaleFactor=1.1, minNeighbors=10)\n",
    "print('Number of detected faces:', len(faces))"
   ]
  },
  {
   "cell_type": "code",
   "execution_count": 15,
   "metadata": {},
   "outputs": [
    {
     "name": "stdout",
     "output_type": "stream",
     "text": [
      "face0.jpg is saved\n",
      "face1.jpg is saved\n",
      "face2.jpg is saved\n",
      "face3.jpg is saved\n",
      "face4.jpg is saved\n",
      "face5.jpg is saved\n"
     ]
    }
   ],
   "source": [
    "# Get all faces and draw bounding rectangle\n",
    "if len(faces) > 0:\n",
    "    for i, (x, y, w, h) in enumerate(faces):\n",
    "        # get face and save crop\n",
    "        face = image[y:y + h, x:x + w]\n",
    "        cv2.imshow(\"Cropped Face\", face)\n",
    "        cv2.imwrite(f'{img_path}face{i}.jpg', face)\n",
    "        print(f\"face{i}.jpg is saved\")\n",
    "        # draw rectangle\n",
    "        color = (0, 255, 255) # in BGR\n",
    "        stroke = 1\n",
    "        cv2.rectangle(image, (x, y), (x + w, y + h), color, stroke)\n",
    "\n",
    "# Show both images, press any key to exit        \n",
    "cv2.imshow('Face detection', image)\n",
    "cv2.waitKey(0)                  \n",
    "cv2.destroyAllWindows()"
   ]
  },
  {
   "cell_type": "markdown",
   "metadata": {},
   "source": [
    "# Smoke capture"
   ]
  },
  {
   "cell_type": "code",
   "execution_count": 9,
   "metadata": {},
   "outputs": [
    {
     "name": "stdout",
     "output_type": "stream",
     "text": [
      "Number of detected faces: 2\n"
     ]
    }
   ],
   "source": [
    "# instantiate a cascade wusind the frontal face, there are others\n",
    "#https://github.com/opencv/opencv/tree/master/data/haarcascades\n",
    "face_cascade = cv2.CascadeClassifier('cascades/haarcascade_frontalface_default.xml')\n",
    "# Image loading and face detection\n",
    "img_path = 'img/'\n",
    "image = cv2.imread(f'{img_path}smokey.png')\n",
    "rgb = cv2.cvtColor(image, cv2.COLOR_BGR2RGB) # Can change to gray or use RGB?\n",
    "faces = face_cascade.detectMultiScale(rgb, scaleFactor=1.1, minNeighbors=5)\n",
    "print('Number of detected faces:', len(faces))"
   ]
  },
  {
   "cell_type": "code",
   "execution_count": 10,
   "metadata": {},
   "outputs": [
    {
     "name": "stdout",
     "output_type": "stream",
     "text": [
      "face0.jpg is saved\n",
      "face1.jpg is saved\n"
     ]
    }
   ],
   "source": [
    "# Get all faces and draw bounding rectangle\n",
    "if len(faces) > 0:\n",
    "    for i, (x, y, w, h) in enumerate(faces):\n",
    "        # get face and save crop\n",
    "        face = image[y:y + h, x:x + w]\n",
    "        cv2.imshow(\"Cropped Face\", face)\n",
    "        cv2.imwrite(f'{img_path}face{i}.jpg', face)\n",
    "        print(f\"face{i}.jpg is saved\")\n",
    "        # draw rectangle\n",
    "        color = (0, 255, 255) # in BGR\n",
    "        stroke = 1\n",
    "        cv2.rectangle(image, (x, y), (x + w, y + h), color, stroke)\n",
    "\n",
    "# Show both images, press any key to exit        \n",
    "cv2.imshow('Face detection', image)\n",
    "cv2.waitKey(0)                  \n",
    "cv2.destroyAllWindows()"
   ]
  },
  {
   "attachments": {},
   "cell_type": "markdown",
   "metadata": {},
   "source": [
    "# Lateral XML profile. Also improved code"
   ]
  },
  {
   "cell_type": "code",
   "execution_count": 36,
   "metadata": {},
   "outputs": [
    {
     "name": "stdout",
     "output_type": "stream",
     "text": [
      "Number of detected faces: 3\n"
     ]
    }
   ],
   "source": [
    "# instantiate a cascade wusind the frontal face, there are others\n",
    "#https://github.com/opencv/opencv/tree/master/data/haarcascades\n",
    "face_cascade = cv2.CascadeClassifier('cascades/haarcascade_profileface.xml')\n",
    "# Image loading and face detection\n",
    "img_path = 'img/'\n",
    "img_file = 'lateral.jpg'\n",
    "img_type = img_file.split('.')[1]\n",
    "\n",
    "image = cv2.imread(f'{img_path}{img_file}')\n",
    "rgb = cv2.cvtColor(image, cv2.COLOR_BGR2RGB) # Can change to gray or use RGB?\n",
    "faces = face_cascade.detectMultiScale(rgb, scaleFactor=1.1, minNeighbors=10)\n",
    "print('Number of detected faces:', len(faces))"
   ]
  },
  {
   "cell_type": "code",
   "execution_count": 37,
   "metadata": {},
   "outputs": [
    {
     "name": "stdout",
     "output_type": "stream",
     "text": [
      "face0.jpg is saved\n",
      "face1.jpg is saved\n",
      "face2.jpg is saved\n"
     ]
    }
   ],
   "source": [
    "# Get all faces and draw bounding rectangle\n",
    "if len(faces) > 0:\n",
    "    for i, (x, y, w, h) in enumerate(faces):\n",
    "        # get face and save crop\n",
    "        face = image[y:y + h, x:x + w]\n",
    "        cv2.imshow(\"Cropped Face\", face)\n",
    "        cv2.imwrite(f'{img_path}face{i}.{img_type}', face)\n",
    "        print(f\"face{i}.jpg is saved\")\n",
    "        # draw rectangle\n",
    "        color = (0, 255, 255) # in BGR\n",
    "        stroke = 1\n",
    "        cv2.rectangle(image, (x, y), (x + w, y + h), color, stroke)\n",
    "\n",
    "# Show both images, press any key to exit        \n",
    "cv2.imshow('Face detection', image)\n",
    "cv2.waitKey(0)                  \n",
    "cv2.destroyAllWindows()"
   ]
  }
 ],
 "metadata": {
  "kernelspec": {
   "display_name": "computer_vision",
   "language": "python",
   "name": "python3"
  },
  "language_info": {
   "codemirror_mode": {
    "name": "ipython",
    "version": 3
   },
   "file_extension": ".py",
   "mimetype": "text/x-python",
   "name": "python",
   "nbconvert_exporter": "python",
   "pygments_lexer": "ipython3",
   "version": "3.10.6"
  },
  "orig_nbformat": 4
 },
 "nbformat": 4,
 "nbformat_minor": 2
}
